{
 "cells": [
  {
   "cell_type": "code",
   "execution_count": 4,
   "id": "37385a4a",
   "metadata": {},
   "outputs": [
    {
     "name": "stdout",
     "output_type": "stream",
     "text": [
      "['Hello,', ' ', 'world.', ' ', 'This,', ' ', 'is', ' ', 'a', ' ', 'test.', ' ', 'Goodbye,', ' ', 'world.']\n"
     ]
    }
   ],
   "source": [
    "import re\n",
    "text= \"Hello, world. This, is a test. Goodbye, world.\"\n",
    "result = re.split(r'(\\s)', text)\n",
    "print(result)"
   ]
  },
  {
   "cell_type": "code",
   "execution_count": 5,
   "id": "ad207ae1",
   "metadata": {},
   "outputs": [
    {
     "name": "stdout",
     "output_type": "stream",
     "text": [
      "['Hello', ',', '', ' ', 'world', '.', '', ' ', 'This', ',', '', ' ', 'is', ' ', 'a', ' ', 'test', '.', '', ' ', 'Goodbye', ',', '', ' ', 'world', '.', '']\n"
     ]
    }
   ],
   "source": [
    "result = re.split(r'([,.]|\\s)', text)\n",
    "print(result)"
   ]
  },
  {
   "cell_type": "code",
   "execution_count": 6,
   "id": "3b8ebb59",
   "metadata": {},
   "outputs": [
    {
     "name": "stdout",
     "output_type": "stream",
     "text": [
      "['Hello', ',', 'world', '.', 'This', ',', 'is', 'a', 'test', '.', 'Goodbye', ',', 'world', '.']\n"
     ]
    }
   ],
   "source": [
    "reuslt = [word for word in result if word.strip()]\n",
    "print(reuslt)"
   ]
  },
  {
   "cell_type": "markdown",
   "id": "a38253a5",
   "metadata": {},
   "source": [
    "# import the book m"
   ]
  },
  {
   "cell_type": "code",
   "execution_count": null,
   "id": "0d5bb5c7",
   "metadata": {},
   "outputs": [
    {
     "name": "stdout",
     "output_type": "stream",
     "text": [
      "Total number of characters: 21936\n",
      "The Verdict\n",
      "\n",
      "\n",
      "\t\t\t\t\tEdith Wharton\n",
      "\n",
      "\n",
      "\n",
      "\n",
      "\n",
      "1908\n",
      "\n",
      "\n",
      "\n",
      "\n",
      "\n",
      "Exported from Wikisource on July 6, 2025\n",
      "\n",
      "\n",
      "\n",
      "\n",
      "\n",
      "I HAD\n"
     ]
    }
   ],
   "source": [
    "with open('The_Verdict.txt', 'r',encoding=\"utf-8\") as f:\n",
    "    raw_text = f.read()\n",
    "print(\"Total number of characters:\", len(raw_text))\n",
    "print(raw_text[:99])  # Print the first 99 characters for a preview"
   ]
  },
  {
   "cell_type": "code",
   "execution_count": 11,
   "id": "00122f2b",
   "metadata": {},
   "outputs": [],
   "source": [
    "preprocessed = re.split(r'([,.:;?_!\"()\\']|--|\\s)', raw_text)"
   ]
  },
  {
   "cell_type": "code",
   "execution_count": 12,
   "id": "f5cbb2d4",
   "metadata": {},
   "outputs": [
    {
     "name": "stdout",
     "output_type": "stream",
     "text": [
      "4929\n"
     ]
    }
   ],
   "source": [
    "preprocessed = [item.strip() for item in preprocessed if item.strip()]\n",
    "print(len(preprocessed))"
   ]
  },
  {
   "cell_type": "code",
   "execution_count": 13,
   "id": "c6f421e0",
   "metadata": {},
   "outputs": [
    {
     "name": "stdout",
     "output_type": "stream",
     "text": [
      "['The', 'Verdict', 'Edith', 'Wharton', '1908', 'Exported', 'from', 'Wikisource', 'on', 'July', '6', ',', '2025', 'I', 'HAD', 'always', 'thought', 'Jack', 'Gisburn', 'rather', 'a', 'cheap', 'genius', '--', 'though', 'a', 'good', 'fellow', 'enough', '--']\n"
     ]
    }
   ],
   "source": [
    "print(preprocessed[:30])  # Print the first 30 items for a preview"
   ]
  },
  {
   "cell_type": "markdown",
   "id": "4cd86325",
   "metadata": {},
   "source": [
    "# convering tokens into token IDsm"
   ]
  },
  {
   "cell_type": "code",
   "execution_count": 15,
   "id": "f5ebadde",
   "metadata": {},
   "outputs": [
    {
     "name": "stdout",
     "output_type": "stream",
     "text": [
      "Vocabulary size: 1235\n"
     ]
    }
   ],
   "source": [
    "all_words = sorted(set(preprocessed))\n",
    "vocab_size = len(all_words)\n",
    "print(\"Vocabulary size:\", vocab_size)"
   ]
  },
  {
   "cell_type": "code",
   "execution_count": 16,
   "id": "ed3d2c7e",
   "metadata": {},
   "outputs": [
    {
     "name": "stdout",
     "output_type": "stream",
     "text": [
      "0 ('!', 0)\n",
      "1 ('\"', 1)\n",
      "2 (\"'\", 2)\n",
      "3 ('(', 3)\n",
      "4 (')', 4)\n",
      "5 ('*', 5)\n",
      "6 (',', 6)\n",
      "7 ('--', 7)\n",
      "8 ('.', 8)\n",
      "9 ('0', 9)\n",
      "10 ('1', 10)\n",
      "11 ('1908', 11)\n",
      "12 ('1930', 12)\n",
      "13 ('2025', 13)\n",
      "14 ('4', 14)\n",
      "15 ('6', 15)\n",
      "16 (':', 16)\n",
      "17 (';', 17)\n",
      "18 ('?', 18)\n",
      "19 ('A', 19)\n",
      "20 ('Abigor', 20)\n",
      "21 ('About', 21)\n",
      "22 ('AdamBMorgan', 22)\n",
      "23 ('Ah', 23)\n",
      "24 ('Among', 24)\n",
      "25 ('And', 25)\n",
      "26 ('Are', 26)\n",
      "27 ('Arrt', 27)\n",
      "28 ('As', 28)\n",
      "29 ('At', 29)\n",
      "30 ('Attribution-ShareAlike', 30)\n",
      "31 ('AzaToth', 31)\n",
      "32 ('Be', 32)\n",
      "33 ('Begin', 33)\n",
      "34 ('Bender235', 34)\n",
      "35 ('Blurpeace', 35)\n",
      "36 ('Boris23', 36)\n",
      "37 ('Bromskloss', 37)\n",
      "38 ('Burlington', 38)\n",
      "39 ('But', 39)\n",
      "40 ('By', 40)\n",
      "41 ('Carlo', 41)\n",
      "42 ('Chicago', 42)\n",
      "43 ('Claude', 43)\n",
      "44 ('Come', 44)\n",
      "45 ('Commons', 45)\n",
      "46 ('Creative', 46)\n",
      "47 ('Croft', 47)\n",
      "48 ('Dbenbenn', 48)\n",
      "49 ('Destroyed', 49)\n",
      "50 ('Devonshire', 50)\n"
     ]
    }
   ],
   "source": [
    "vocab = {token: integer for integer, token in enumerate(all_words)}\n",
    "for i, item in enumerate(vocab.items()):\n",
    "    print(i, item)\n",
    "    if i >= 50:\n",
    "        break"
   ]
  },
  {
   "cell_type": "markdown",
   "id": "c776c84f",
   "metadata": {},
   "source": [
    "# implemnt a simple text tokenizer"
   ]
  },
  {
   "cell_type": "code",
   "execution_count": 18,
   "id": "fc4faac1",
   "metadata": {},
   "outputs": [],
   "source": [
    "class SimpleTokenizer:\n",
    "    def __init__(self, vocab):\n",
    "        self.str_to_int = vocab\n",
    "        self.int_to_str = {i:s for s, i in vocab.items()}\n",
    "\n",
    "    def encode(self, text):\n",
    "        preprocessed = re.split(r'([,.:;?_!\"()\\']|--|\\s)', text)\n",
    "        preprocessed = [item.strip() for item in preprocessed if item.strip()]\n",
    "        ids = [self.str_to_int[s] for s in preprocessed]\n",
    "        return ids\n",
    "\n",
    "    def decode(self, ids):\n",
    "        text = \" \".join([self.int_to_str[i] for i in ids])\n",
    "        text = re.sub(r'\\s([,.]|\\s)', r'\\1', text)\n",
    "        return text"
   ]
  },
  {
   "cell_type": "code",
   "execution_count": 20,
   "id": "d8702933",
   "metadata": {},
   "outputs": [
    {
     "name": "stdout",
     "output_type": "stream",
     "text": [
      "Encoded IDs: [1, 84, 2, 945, 1087, 679, 609, 834, 6, 1231, 673, 6, 1, 100, 8, 65, 946, 1212, 842, 883, 8]\n"
     ]
    }
   ],
   "source": [
    "tokenizer = SimpleTokenizer(vocab)\n",
    "text = \"\"\"\"It's the last he painted, you know,\" Mrs. Gisburn said with pardonable pride.\"\"\"\n",
    "ids = tokenizer.encode(text)\n",
    "print(\"Encoded IDs:\", ids)"
   ]
  },
  {
   "cell_type": "code",
   "execution_count": 21,
   "id": "233a8f9d",
   "metadata": {},
   "outputs": [
    {
     "name": "stdout",
     "output_type": "stream",
     "text": [
      "Decoded text: \" It ' s the last he painted, you know, \" Mrs. Gisburn said with pardonable pride.\n"
     ]
    }
   ],
   "source": [
    "print(\"Decoded text:\", tokenizer.decode(ids))"
   ]
  },
  {
   "cell_type": "code",
   "execution_count": null,
   "id": "e6a547b8",
   "metadata": {},
   "outputs": [],
   "source": []
  }
 ],
 "metadata": {
  "kernelspec": {
   "display_name": "base",
   "language": "python",
   "name": "python3"
  },
  "language_info": {
   "codemirror_mode": {
    "name": "ipython",
    "version": 3
   },
   "file_extension": ".py",
   "mimetype": "text/x-python",
   "name": "python",
   "nbconvert_exporter": "python",
   "pygments_lexer": "ipython3",
   "version": "3.8.8"
  }
 },
 "nbformat": 4,
 "nbformat_minor": 5
}
